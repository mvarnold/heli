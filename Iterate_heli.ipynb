{
 "cells": [
  {
   "cell_type": "code",
   "execution_count": 1,
   "metadata": {
    "collapsed": true
   },
   "outputs": [],
   "source": [
    "import numpy as np\n",
    "import control\n",
    "import matplotlib.pyplot as plt"
   ]
  },
  {
   "cell_type": "code",
   "execution_count": 2,
   "metadata": {},
   "outputs": [
    {
     "name": "stdout",
     "output_type": "stream",
     "text": [
      "[[  98.20881346 -103.06449584   32.26425961  -29.07500828]\n",
      " [ 156.34686062   66.164263     45.51218874   17.10683172]]\n",
      "\n"
     ]
    }
   ],
   "source": [
    "\n",
    "#%% Quanser Aero Parameters\n",
    "#% Moment of Inertia of helicopter body (kg-m^2)\n",
    "L_body = 6.5*0.0254#; % length of horizontal body (metal tube)\n",
    "m_body = 0.094#; % mass of horizontal body (metal tube) \n",
    "J_body = m_body * L_body**2 / 12#; % horizontal cylinder rotating about CM\n",
    "\n",
    "#% Moment of Inertia of yoke fork that rotates about yaw axis (kg-m^2)\n",
    "m_yoke = 0.526 # mass of entire yoke assembly (kg)\n",
    "#% h_yoke = 9*0.0254; % height of yoke assembly (m)\n",
    "r_fork = 0.04/2 #radius of each fork (approximated as cylinder)\n",
    "J_yoke = 0.5*m_yoke*r_fork**2\n",
    "\n",
    "# Moment of Inertia from motor + guard assembly about pivot (kg-m^2)\n",
    "m_prop = 0.43 # mass of dc motor + shield + propeller shield\n",
    "#% m_motor = 0.203; % mass of dc motor\n",
    "r_prop = 6.25*0.0254 #distance from CM to center of pitch axis\n",
    "J_prop = m_prop * r_prop**2 # using parallel axis theorem\n",
    "\n",
    "\n",
    "# Equivalent Moment of Inertia about Pitch and Yaw Axis (kg-m^2)\n",
    "Jp = J_body + 2*J_prop # pitch: body and 2 props\n",
    "Jy = J_body + 2*J_prop + J_yoke # yaw: body, 2 props, and yoke\n",
    "\n",
    "# Thrust-torque constant (N-m/V) [found experimentally]\n",
    "Kpp = 0.0011 # (pre-production unit: 0.0015)\n",
    "Kyy = 0.0022 # (pre-production unit: 0.0040)\n",
    "Kpy = 0.0021 # thrust acting on pitch from yaw (pre-production unit: 0.0020)\n",
    "Kyp = -0.0027  # thrust acting on yaw from pitch (pre-production unit: -0.0017)\n",
    "\n",
    "# Stiffness (N-m/rad)[found experimentally] \n",
    "Ksp = 0.037463\n",
    " \n",
    "# Viscous damping (N-m-s/rad) [found experimentally]\n",
    "Dp = 0.0071116 #pitch axis (pre-production unit: Dp = 0.0226) \n",
    "Dy = 0.0220 #yaw axis (pre-production unit: Dy = 0.0211)\n",
    "\n",
    "A = np.array([[0, 0, 1, 0],[0, 0, 0, 1],[-Ksp/Jp, 0, -Dp/Jp, 0],[0, 0, 0, -Dy/Jy]])\n",
    "B = np.array([[0, 0],[0, 0],[Kpp/Jp, Kpy/Jp],[Kyp/Jy, Kyy/Jy]])\n",
    "C = np.eye(2,4)\n",
    "D = np.zeros([2,2])\n",
    "\n",
    "\n",
    "Q = np.diag([200, 75, 0, 0 ])\n",
    "R = 0.005*np.eye(2,2);\n",
    "K,S,E = control.lqr(A,B,Q,R)\n",
    "print(K)\n",
    "print()\n",
    "Y=np.array([0.5,0.5,0.1,0.1])\n"
   ]
  },
  {
   "cell_type": "code",
   "execution_count": 3,
   "metadata": {},
   "outputs": [
    {
     "name": "stdout",
     "output_type": "stream",
     "text": [
      "[ 0.001       0.         -0.00203659  0.        ]\n",
      "[0.         0.         0.0270938  0.02344701]\n",
      "\n"
     ]
    },
    {
     "ename": "NameError",
     "evalue": "name 'f' is not defined",
     "output_type": "error",
     "traceback": [
      "\u001b[0;31m---------------------------------------------------------------------------\u001b[0m",
      "\u001b[0;31mNameError\u001b[0m                                 Traceback (most recent call last)",
      "\u001b[0;32m<ipython-input-3-d78a0985a016>\u001b[0m in \u001b[0;36m<module>\u001b[0;34m()\u001b[0m\n\u001b[1;32m      4\u001b[0m \u001b[0mprint\u001b[0m\u001b[0;34m(\u001b[0m\u001b[0mnp\u001b[0m\u001b[0;34m.\u001b[0m\u001b[0mmatmul\u001b[0m\u001b[0;34m(\u001b[0m\u001b[0mB\u001b[0m\u001b[0;34m,\u001b[0m\u001b[0mu\u001b[0m\u001b[0;34m)\u001b[0m\u001b[0;34m)\u001b[0m\u001b[0;34m\u001b[0m\u001b[0m\n\u001b[1;32m      5\u001b[0m \u001b[0mprint\u001b[0m\u001b[0;34m(\u001b[0m\u001b[0;34m)\u001b[0m\u001b[0;34m\u001b[0m\u001b[0m\n\u001b[0;32m----> 6\u001b[0;31m \u001b[0mprint\u001b[0m\u001b[0;34m(\u001b[0m\u001b[0mf\u001b[0m\u001b[0;34m(\u001b[0m\u001b[0;36m1\u001b[0m\u001b[0;34m,\u001b[0m\u001b[0mnp\u001b[0m\u001b[0;34m.\u001b[0m\u001b[0mappend\u001b[0m\u001b[0;34m(\u001b[0m\u001b[0mY\u001b[0m\u001b[0;34m,\u001b[0m\u001b[0mu\u001b[0m\u001b[0;34m)\u001b[0m\u001b[0;34m)\u001b[0m\u001b[0;34m)\u001b[0m\u001b[0;34m\u001b[0m\u001b[0m\n\u001b[0m\u001b[1;32m      7\u001b[0m \u001b[0;34m\u001b[0m\u001b[0m\n",
      "\u001b[0;31mNameError\u001b[0m: name 'f' is not defined"
     ]
    }
   ],
   "source": [
    "Y=np.array([0.0010,0.0010,0.0010,0.000])\n",
    "u=np.matmul(K,np.transpose(Y))\n",
    "print(np.matmul(A,Y))\n",
    "print(np.matmul(B,u))\n",
    "print()\n",
    "print(f(1,np.append(Y,u)))\n",
    "\n"
   ]
  },
  {
   "cell_type": "code",
   "execution_count": 6,
   "metadata": {
    "collapsed": true
   },
   "outputs": [],
   "source": [
    "def rk4(x, h, y, f):  \n",
    "    \n",
    "    k1 = h * f(x, y)\n",
    "    k2 = h * f(x + 0.5*h, y + make_state_inc1(0.5*k1))\n",
    "    k3 = h * f(x + 0.5*h, y + make_state_inc1(0.5*k2))\n",
    "    k4 = h * f(x + h, y + make_state_inc1(k3))\n",
    "    return x + h, y[0:4] + (k1 + 2*(k2 + k3) + k4)/6.0\n",
    "\n",
    "def newton(x,h,y,f):\n",
    "    return x+h,h*f(x,y)"
   ]
  },
  {
   "cell_type": "code",
   "execution_count": 63,
   "metadata": {
    "collapsed": true
   },
   "outputs": [],
   "source": [
    "def f(t,state):\n",
    "    \n",
    "    x = state[0:4]\n",
    "    u = state[4:6]\n",
    "   \n",
    "    return np.matmul(A,x)+np.matmul(B,u)\n",
    "\n",
    "def make_state_inc(state):\n",
    "    return (np.append(state,np.matmul(K,state)), np.matmul(K,state))"
   ]
  },
  {
   "cell_type": "code",
   "execution_count": 78,
   "metadata": {},
   "outputs": [
    {
     "name": "stdout",
     "output_type": "stream",
     "text": [
      "  0.000000   1.500000\n"
     ]
    },
    {
     "data": {
      "image/png": "[encoded data removed]",
      "text/plain": [
       "<Figure size 432x288 with 1 Axes>"
      ]
     },
     "metadata": {},
     "output_type": "display_data"
    }
   ],
   "source": [
    "t0 = 0\n",
    "endt = 1\n",
    "dt = 1.0/40\n",
    "Y = [3.5,1.5,0.1,0.0] #  positionm\n",
    "\n",
    "state = Y\n",
    "print('%10f %10f' % (t0, state[1]))\n",
    "t_vec = np.arange(t0,endt,dt)\n",
    "state_vector = np.zeros([int(endt/dt),4])\n",
    "state_vector[0] = state\n",
    "\n",
    "response_vector = np.zeros([int(endt/dt),2])\n",
    "\n",
    "for i,t in enumerate(t_vec[:-1]):\n",
    "    state_inc,u = make_state_inc(state)\n",
    "    \n",
    "    t, state = newton(t, dt, state_inc, f)\n",
    "    \n",
    "    state_vector[i+1] = state\n",
    "    response_vector[i+1] = u\n",
    "    #print('%10f %10f' % (t, state[0]))\n",
    "plt.plot(t_vec,state_vector[:,0]*180/np.pi,label=\"0\")\n",
    "plt.plot(t_vec,state_vector[:,1]*180/np.pi,label=\"1\")\n",
    "plt.plot(t_vec,state_vector[:,2]*180/np.pi,label=\"2\")\n",
    "plt.plot(t_vec,state_vector[:,3]*180/np.pi,label=\"3\")\n",
    "plt.legend()\n",
    "plt.show()\n"
   ]
  },
  {
   "cell_type": "code",
   "execution_count": null,
   "metadata": {
    "collapsed": true
   },
   "outputs": [],
   "source": []
  },
  {
   "cell_type": "code",
   "execution_count": 79,
   "metadata": {},
   "outputs": [
    {
     "name": "stderr",
     "output_type": "stream",
     "text": [
      "/Users/Winston/anaconda3/lib/python3.6/site-packages/h5py/__init__.py:34: FutureWarning: Conversion of the second argument of issubdtype from `float` to `np.floating` is deprecated. In future, it will be treated as `np.float64 == np.dtype(float).type`.\n",
      "  from ._conv import register_converters as _register_converters\n",
      "Using TensorFlow backend.\n"
     ]
    }
   ],
   "source": [
    "from keras import backend as K\n",
    "from keras.utils.generic_utils import get_custom_objects\n",
    "from keras.callbacks import LambdaCallback\n",
    "from keras.models import Sequential\n",
    "from keras.layers import Dense, Activation\n",
    "import numpy as np\n",
    "import matplotlib.pyplot as plt\n",
    "import random\n",
    "import sys\n",
    "import io\n",
    "\n",
    "model = Sequential()\n",
    "model.add(Dense(10,input_shape=(4,)))\n",
    "model.add(Dense(10))\n",
    "def custom_activation(x):\n",
    "    return (K.tanh(x/8) *24)\n",
    "\n",
    "get_custom_objects().update({'custom_activation': Activation(custom_activation)})\n",
    "\n",
    "model.add(Dense(2,activation=custom_activation))\n",
    "\n",
    "model.compile(loss='mean_squared_error',optimizer='sgd',metrics=['accuracy'])\n"
   ]
  },
  {
   "cell_type": "code",
   "execution_count": null,
   "metadata": {
    "collapsed": true
   },
   "outputs": [],
   "source": []
  }
 ],
 "metadata": {
  "kernelspec": {
   "display_name": "Python 3",
   "language": "python",
   "name": "python3"
  },
  "language_info": {
   "codemirror_mode": {
    "name": "ipython",
    "version": 3
   },
   "file_extension": ".py",
   "mimetype": "text/x-python",
   "name": "python",
   "nbconvert_exporter": "python",
   "pygments_lexer": "ipython3",
   "version": "3.6.1"
  }
 },
 "nbformat": 4,
 "nbformat_minor": 2
}
